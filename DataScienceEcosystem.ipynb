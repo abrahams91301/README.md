{
 "cells": [
  {
   "cell_type": "markdown",
   "metadata": {},
   "source": [
    "## Autor \n",
    "Abrahams Sarmiento"
   ]
  },
  {
   "cell_type": "markdown",
   "metadata": {},
   "source": [
    "# Data Science tools and ecosystem"
   ]
  },
  {
   "cell_type": "markdown",
   "metadata": {},
   "source": [
    "## En este cuaderno, se resumen las herramientas y ecosistemas de ciencia de datos.\n",
    "\n"
   ]
  },
  {
   "cell_type": "markdown",
   "metadata": {},
   "source": [
    "#### Algunos de los lenguajes populares que utilizan los científicos de datos son:\n",
    "1. Python\n",
    "2. R\n",
    "3. Julia\n",
    "4. SQL\n",
    "5. JAVA"
   ]
  },
  {
   "cell_type": "markdown",
   "metadata": {},
   "source": [
    "**Obejtivos**\n",
    "- Listar lenguajes populares para la ciencia de datos\n",
    "- Listar herramientas utilizadas para la ciencia de datos\n",
    "- Listar Bilibotecas utilizadas por cientificos de datos\n",
    "- Demostrar calculos simples con lenguaje para la ciencia de datos"
   ]
  },
  {
   "cell_type": "markdown",
   "metadata": {},
   "source": [
    "#### Algunas de las bibliotecas comúnmente utilizadas por los científicos de datos incluyen:\n",
    "1. pandas\n",
    "2. numpy\n",
    "3. seaborn\n",
    "4. Matplotlib"
   ]
  },
  {
   "cell_type": "markdown",
   "metadata": {},
   "source": [
    "#### Herramientas de Ciencia de Datos\n",
    "| Herramientas de entorno de desarrollo |\n",
    "|--------------|\n",
    "|Apache Zeppelin|\n",
    "|RStudio|\n",
    "|Jupyter Notebook|\n"
   ]
  },
  {
   "cell_type": "markdown",
   "metadata": {},
   "source": [
    "### A continuación, se presentan algunos ejemplos de evaluación de expresiones aritméticas en Python."
   ]
  },
  {
   "cell_type": "code",
   "execution_count": 3,
   "metadata": {},
   "outputs": [
    {
     "name": "stdout",
     "output_type": "stream",
     "text": [
      " El resultador del ecalculo es 17\n"
     ]
    }
   ],
   "source": [
    "\n",
    "calculo =(3*4)+5\n",
    "print(\" El resultador del ecalculo es \"+ str(calculo))\n",
    "\n"
   ]
  },
  {
   "cell_type": "markdown",
   "metadata": {},
   "source": []
  },
  {
   "cell_type": "code",
   "execution_count": 2,
   "metadata": {},
   "outputs": [
    {
     "name": "stdout",
     "output_type": "stream",
     "text": [
      "El caculo sa un resultado de 3.33 horas\n"
     ]
    }
   ],
   "source": [
    "# Esto convertirá 200 minutos a horas dividiendo por 60\n",
    "\n",
    "minutos = 200\n",
    "hora = 60 \n",
    "calculo = round((minutos / hora),2)\n",
    "\n",
    "print(\"El caculo sa un resultado de \"+ str(calculo)+ \" horas\")"
   ]
  }
 ],
 "metadata": {
  "kernelspec": {
   "display_name": "base",
   "language": "python",
   "name": "python3"
  },
  "language_info": {
   "codemirror_mode": {
    "name": "ipython",
    "version": 3
   },
   "file_extension": ".py",
   "mimetype": "text/x-python",
   "name": "python",
   "nbconvert_exporter": "python",
   "pygments_lexer": "ipython3",
   "version": "3.12.7"
  },
  "prev_pub_hash": "9e1985db9844176462bd1d5863048c9f3d17404bbc6a648be9084b0c42b29347"
 },
 "nbformat": 4,
 "nbformat_minor": 4
}
